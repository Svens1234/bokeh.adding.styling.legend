{
 "cells": [
  {
   "cell_type": "code",
   "execution_count": 1,
   "id": "8051714b",
   "metadata": {},
   "outputs": [],
   "source": [
    "from bokeh.plotting import figure, show"
   ]
  },
  {
   "cell_type": "code",
   "execution_count": 2,
   "id": "89bb9c6e",
   "metadata": {},
   "outputs": [],
   "source": [
    "x = [1, 2, 3, 4, 5]\n",
    "y1 = [4, 5, 5, 7, 2]\n",
    "y2 = [2, 3, 4, 5, 6]"
   ]
  },
  {
   "cell_type": "code",
   "execution_count": 3,
   "id": "eb429027",
   "metadata": {},
   "outputs": [],
   "source": [
    "p = figure(title=\"Legend example\")"
   ]
  },
  {
   "cell_type": "code",
   "execution_count": 4,
   "id": "94ccde61",
   "metadata": {},
   "outputs": [],
   "source": [
    "line = p.line(x, y1, legend_label=\"Temp.\", line_color=\"blue\", line_width=2)\n",
    "circle = p.circle(\n",
    "    x,\n",
    "    y2,\n",
    "    legend_label=\"Objects\",\n",
    "    fill_color=\"red\",\n",
    "    fill_alpha=0.5,\n",
    "    line_color=\"blue\",\n",
    "    size=80,\n",
    ")"
   ]
  },
  {
   "cell_type": "code",
   "execution_count": 5,
   "id": "a1a29435",
   "metadata": {},
   "outputs": [],
   "source": [
    "p.legend.location = \"top_left\""
   ]
  },
  {
   "cell_type": "code",
   "execution_count": 6,
   "id": "48437248",
   "metadata": {},
   "outputs": [],
   "source": [
    "p.legend.title = \"Obervations\""
   ]
  },
  {
   "cell_type": "code",
   "execution_count": 7,
   "id": "14c7d5d3",
   "metadata": {},
   "outputs": [],
   "source": [
    "p.legend.label_text_font = \"times\"\n",
    "p.legend.label_text_font_style = \"italic\"\n",
    "p.legend.label_text_color = \"navy\""
   ]
  },
  {
   "cell_type": "code",
   "execution_count": 8,
   "id": "2167afcc",
   "metadata": {},
   "outputs": [],
   "source": [
    "p.legend.border_line_width = 3\n",
    "p.legend.border_line_color = \"navy\"\n",
    "p.legend.border_line_alpha = 0.8\n",
    "p.legend.background_fill_color = \"navy\"\n",
    "p.legend.background_fill_alpha = 0.2"
   ]
  },
  {
   "cell_type": "code",
   "execution_count": 10,
   "id": "c693d1c9",
   "metadata": {},
   "outputs": [],
   "source": [
    "show(p)"
   ]
  },
  {
   "cell_type": "code",
   "execution_count": null,
   "id": "fd85b88a",
   "metadata": {},
   "outputs": [],
   "source": []
  }
 ],
 "metadata": {
  "kernelspec": {
   "display_name": "Python 3 (ipykernel)",
   "language": "python",
   "name": "python3"
  },
  "language_info": {
   "codemirror_mode": {
    "name": "ipython",
    "version": 3
   },
   "file_extension": ".py",
   "mimetype": "text/x-python",
   "name": "python",
   "nbconvert_exporter": "python",
   "pygments_lexer": "ipython3",
   "version": "3.8.7"
  }
 },
 "nbformat": 4,
 "nbformat_minor": 5
}
